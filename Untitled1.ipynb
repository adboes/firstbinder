{
  "metadata": {
    "kernelspec": {
      "name": "python",
      "display_name": "Python (Pyodide)",
      "language": "python"
    },
    "language_info": {
      "codemirror_mode": {
        "name": "python",
        "version": 3
      },
      "file_extension": ".py",
      "mimetype": "text/x-python",
      "name": "python",
      "nbconvert_exporter": "python",
      "pygments_lexer": "ipython3",
      "version": "3.8"
    }
  },
  "nbformat_minor": 5,
  "nbformat": 4,
  "cells": [
    {
      "id": "bcda36d0-4353-4ff2-87f0-a035ed6e2912",
      "cell_type": "code",
      "source": "%pip install -q ipywidgets\n%pip install -q ipyevents\n",
      "metadata": {
        "trusted": true
      },
      "outputs": [
        {
          "ename": "<class 'SyntaxError'>",
          "evalue": "invalid syntax (<ipython-input-18-df8752ee3b13>, line 1)",
          "traceback": [
            "\u001b[0;36m  Cell \u001b[0;32mIn[18], line 1\u001b[0;36m\u001b[0m\n\u001b[0;31m    jupyter labextension install @jupyter-widgets/jupyterlab-manager\u001b[0m\n\u001b[0m            ^\u001b[0m\n\u001b[0;31mSyntaxError\u001b[0m\u001b[0;31m:\u001b[0m invalid syntax\n"
          ],
          "output_type": "error"
        }
      ],
      "execution_count": 18
    },
    {
      "id": "a3d2db10-222e-4ef7-859c-2d2641dea8fe",
      "cell_type": "code",
      "source": "import ipywidgets as widgets\nfrom ipyevents import Event\nfrom IPython.display import display\n\n# Mausbereich\narea = widgets.HTML(\n    value=\"\"\"\n    <div style='width:400px; height:200px; border:2px solid #444; background-color:#f0f0f0; line-height:200px; text-align:center; font-size:18px;'>\n        Bewege die Maus hier\n    </div>\n    \"\"\"\n)\n\n# Koordinatenanzeige\ncoords = widgets.Label(value=\"x: –, y: –\")\n\n# Event-Listener\nmouse_event = Event(\n    source=area,\n    watched_events=['mousemove'],\n    debounce_wait=0,\n    prevent_default_action=True\n)\n\n# Callback\n@mouse_event.on_dom_event\ndef on_move(event):\n    x = event.get(\"relativeX\")\n    y = event.get(\"relativeY\")\n    if x is not None and y is not None:\n        coords.value = f\"x: {x}, y: {y}\"\n\n# Ausgabe\ndisplay(area, coords)\n",
      "metadata": {
        "trusted": true
      },
      "outputs": [
        {
          "output_type": "display_data",
          "data": {
            "text/plain": "HTML(value=\"\\n    <div style='width:400px; height:200px; border:2px solid #444; background-color:#f0f0f0; line…",
            "application/vnd.jupyter.widget-view+json": {
              "version_major": 2,
              "version_minor": 0,
              "model_id": "67ef0ea8738b402a82f1fe27aa9cc3aa"
            }
          },
          "metadata": {}
        },
        {
          "output_type": "display_data",
          "data": {
            "text/plain": "Label(value='x: –, y: –')",
            "application/vnd.jupyter.widget-view+json": {
              "version_major": 2,
              "version_minor": 0,
              "model_id": "669bdcdb53e84c63a3f7ab28e91a30cb"
            }
          },
          "metadata": {}
        }
      ],
      "execution_count": 19
    },
    {
      "id": "d0e1ac1b-11fd-4019-a0f2-059a8bb9509c",
      "cell_type": "code",
      "source": "",
      "metadata": {
        "trusted": true
      },
      "outputs": [],
      "execution_count": null
    },
    {
      "id": "ed8cf1fc-74c3-440b-a76a-71b3b0043c65",
      "cell_type": "code",
      "source": "",
      "metadata": {
        "trusted": true
      },
      "outputs": [],
      "execution_count": null
    }
  ]
}